{
 "cells": [
  {
   "cell_type": "code",
   "execution_count": 1,
   "id": "14d431ff-198f-45e9-a4d0-fb794d686c8d",
   "metadata": {},
   "outputs": [],
   "source": [
    "#Q1."
   ]
  },
  {
   "cell_type": "code",
   "execution_count": 3,
   "id": "38362399-735e-4a45-86d5-997c704fbc95",
   "metadata": {},
   "outputs": [],
   "source": [
    "# Assumptions for using ANOVA:\n",
    "\n",
    "#1. Normality of Sampling Distribution of mean\n",
    "#2. Absence of Outliers\n",
    "#3. Homogenity of variance\n",
    "#4. Samples are independent and random\n",
    "\n",
    "# Examples of Violations:\n",
    "\n",
    "#1. Non-normality: Residuals not normally distributed.\n",
    "#2. Dependence: Non-independent observations within groups.\n",
    "#3. Outliers: Extreme values or outliers.\n",
    "#4. Unequal Sample Sizes: Significantly different group sizes.\n",
    "#5. Non-Additivity: Violation of additivity assumption."
   ]
  },
  {
   "cell_type": "code",
   "execution_count": 4,
   "id": "75a46ec2-ed14-4bca-8590-d1d689015801",
   "metadata": {},
   "outputs": [],
   "source": [
    "#Q2.\n",
    "\n",
    "# Three types of ANOVA:\n",
    "\n",
    "#1. One-way ANOVA: For comparing means of three or more independent groups.\n",
    "#2. Two-way ANOVA: When you have two independent factors to analyze.\n",
    "#3. Repeated Measures ANOVA: When measuring the same subjects over multiple time points.\n",
    "\n",
    "# Situations for Each:\n",
    "\n",
    "#1. One-way ANOVA: Comparing class performance in multiple classes\n",
    "#2. Two-way ANOVA: Analyzing the combined impact of gender and age on student test scores.\n",
    "#3. Repeated Measures ANOVA: Assessing how an exercise program affects weight over time with the same participants."
   ]
  },
  {
   "cell_type": "code",
   "execution_count": 5,
   "id": "0b2d75e4-ccac-40a9-a9e6-8a68f8fada15",
   "metadata": {},
   "outputs": [],
   "source": [
    "#Q3.\n",
    "\n",
    "# Partitioning of Variance in ANOVA:\n",
    "\n",
    "# It breaks down total variance into components.\n",
    "# Components include between-group, within-group, and error variances.\n",
    "# It helps identify sources of variation in the data.\n",
    "# Assesses model fit and its explanatory power.\n",
    "# Essential for making inferences and drawing conclusions.\n",
    "# Useful for optimizing processes in experimental design."
   ]
  },
  {
   "cell_type": "code",
   "execution_count": 6,
   "id": "04fa1cbd-018c-4d6b-9298-1d430fced215",
   "metadata": {},
   "outputs": [],
   "source": [
    "#Q4.\n",
    "\n",
    "import numpy as np"
   ]
  },
  {
   "cell_type": "code",
   "execution_count": 7,
   "id": "bafa0ed2-1b30-44d5-b8fe-f8ea47fecd18",
   "metadata": {},
   "outputs": [],
   "source": [
    "group1 = np.array([23, 25, 27, 24, 22])\n",
    "group2 = np.array([30, 31, 32, 29, 28])\n",
    "group3 = np.array([35, 36, 34, 33, 37])"
   ]
  },
  {
   "cell_type": "code",
   "execution_count": 8,
   "id": "12d5c9bd-043a-42bb-8d70-e2cd82751215",
   "metadata": {},
   "outputs": [
    {
     "name": "stdout",
     "output_type": "stream",
     "text": [
      "[23 25 27 24 22 30 31 32 29 28 35 36 34 33 37]\n"
     ]
    }
   ],
   "source": [
    "# Combine all data points into one array\n",
    "all_data = np.concatenate((group1, group2, group3))\n",
    "print(all_data)"
   ]
  },
  {
   "cell_type": "code",
   "execution_count": 10,
   "id": "d03db297-0cbc-457d-b325-92320477712d",
   "metadata": {},
   "outputs": [
    {
     "data": {
      "text/plain": [
       "29.733333333333334"
      ]
     },
     "execution_count": 10,
     "metadata": {},
     "output_type": "execute_result"
    }
   ],
   "source": [
    "# Calculate the Grand Mean\n",
    "GM = np.mean(all_data)\n",
    "GM"
   ]
  },
  {
   "cell_type": "code",
   "execution_count": 11,
   "id": "512dd790-91d6-4bca-91d0-57e267bd4680",
   "metadata": {},
   "outputs": [],
   "source": [
    "SST = np.sum((all_data - GM)**2)"
   ]
  },
  {
   "cell_type": "code",
   "execution_count": 12,
   "id": "62f96c19-c3d6-4064-b580-75f158bccece",
   "metadata": {},
   "outputs": [],
   "source": [
    "group1_mean = np.mean(group1)\n",
    "group2_mean = np.mean(group2)\n",
    "group3_mean = np.mean(group3)"
   ]
  },
  {
   "cell_type": "code",
   "execution_count": 13,
   "id": "cfc2691c-4cdd-4dc5-b633-ea4b3e2efd88",
   "metadata": {},
   "outputs": [],
   "source": [
    "SSE1 = np.sum((group1 - group1_mean)**2)\n",
    "SSE2 = np.sum((group2 - group2_mean)**2)\n",
    "SSE3 = np.sum((group3 - group3_mean)**2)"
   ]
  },
  {
   "cell_type": "code",
   "execution_count": 14,
   "id": "809bdb95-d617-4186-9bd3-35e871881c36",
   "metadata": {},
   "outputs": [],
   "source": [
    "SSE = SSE1 + SSE2 + SSE3"
   ]
  },
  {
   "cell_type": "code",
   "execution_count": 15,
   "id": "6ce2613b-15f2-43aa-9b6f-6a089a94c749",
   "metadata": {},
   "outputs": [],
   "source": [
    "SSR = SST - SSE"
   ]
  },
  {
   "cell_type": "code",
   "execution_count": 16,
   "id": "56790b38-525a-4bcb-bdad-b70472be4a5c",
   "metadata": {},
   "outputs": [
    {
     "name": "stdout",
     "output_type": "stream",
     "text": [
      "SST: 326.93333333333334\n",
      "SSE: 34.8\n",
      "SSR: 292.1333333333333\n"
     ]
    }
   ],
   "source": [
    "print(f\"SST: {SST}\")\n",
    "print(f\"SSE: {SSE}\")\n",
    "print(f\"SSR: {SSR}\")"
   ]
  },
  {
   "cell_type": "code",
   "execution_count": 26,
   "id": "53b8219a-8e70-471e-ac2e-527b1deb598e",
   "metadata": {},
   "outputs": [],
   "source": [
    "#Q5.\n",
    "\n",
    "# In a two-way ANOVA, we can calculate the main effects as follows:\n",
    "\n",
    "# Calculate the main effect for each independent variable separately.\n",
    "# For each factor, compute the difference in means between the levels of that factor.\n",
    "# We can use libraries like 'scipy.stats' or 'pingouin' to perform test for each factor.\n",
    "\n",
    "# Interaction Effects:\n",
    "# Calculate the interaction effects between two or more factors.\n",
    "# Perform the two-way ANOVA using libraries like 'statsmodels' or 'pingouin'.\n",
    "# Examine the interaction term (e.g., \"FactorA:Factor B\") in the ANOVA table.\n",
    "# A significant interaction term indicates that the effect of one factor depends on the level of another factor."
   ]
  },
  {
   "cell_type": "code",
   "execution_count": 18,
   "id": "f1e8f518-7612-4c2b-865f-f8aabfab87b6",
   "metadata": {},
   "outputs": [],
   "source": [
    "#Q6.\n",
    "\n",
    "# F-statistic: The F-statistic of 5.23 indicates that there is some degree of variation between the group means.\n",
    "\n",
    "# P-value: The p-value of 0.02 is less than the significance level (i.e. making an assumption of 0.05), suggesting an evidence to reject the null hypothesis.\n",
    "\n",
    "# Interpretation about the results:\n",
    "\n",
    "# There is evidence to suggest that at least one group mean is different from the others.\n",
    "\n",
    "# All in all, ANOVA results indicate that there are statistically significant differences among the groups, but further tests are needed to determine which specific groups differ from each other."
   ]
  },
  {
   "cell_type": "code",
   "execution_count": 19,
   "id": "37b79b87-b600-45e2-b422-b05a50f54088",
   "metadata": {},
   "outputs": [],
   "source": [
    "#Q7.\n",
    "\n",
    "# Handling missing data in repeated meassures ANOVA:\n",
    "\n",
    "#1. Importance: Addressing missing data is crucial to maintain data integrity and statistical power.\n",
    "#2. Methods: Various methods exist, including complete case analysis, mean imputation, regression imputation, and multiple imputation.\n",
    "#3. Choice: Method choice depends on data nature and missing data mechanism.\n",
    "#4. Multiple Imputation: Often considered the gold standard due to its accuracy and ability to address uncertainty.\n",
    "#5. Consequences: Using different methods can lead to bias, power loss, invalid inferences, and increased complexity.\n",
    "#6. Transparency: Transparently report the chosen method in research for reproducibility and trustworthiness of results."
   ]
  },
  {
   "cell_type": "code",
   "execution_count": 27,
   "id": "488ab6af-1294-4290-b74f-373d65f46c32",
   "metadata": {},
   "outputs": [],
   "source": [
    "#Q8.\n",
    "\n",
    "# Tukey's HSD: For comparing all pairs of group means; suitable for equal or unequal group sizes.\n",
    "# Bonferroni Correction: Controls familywise erroe rate; useful for multiple comparisons.\n",
    "# Duncan's Multiple Range Test: Identifies subsets of groups with no significant differences.\n",
    "# Scheffé's Test: Compares all possible group combinations; robust for unequal group sizes.\n",
    "# Holm-Bonferroni Method: Step-down procedure to control familywise error rate.\n",
    "# Fisher's LSD: Compares two groups at a time; less stringent but can increase Type I errors."
   ]
  },
  {
   "cell_type": "code",
   "execution_count": 50,
   "id": "9261fcce-42c2-47c5-974b-43dcf88e8bd7",
   "metadata": {},
   "outputs": [],
   "source": [
    "#Q9.\n",
    "\n",
    "import scipy.stats as stats\n",
    "import numpy as np"
   ]
  },
  {
   "cell_type": "code",
   "execution_count": 22,
   "id": "6e2d9364-58c8-4a18-8f1a-447b320e5f6b",
   "metadata": {},
   "outputs": [],
   "source": [
    "np.random.seed(0)\n",
    "sample_size = 50"
   ]
  },
  {
   "cell_type": "code",
   "execution_count": 23,
   "id": "3bcb6c23-4f04-43f4-a665-e95cfc80648a",
   "metadata": {},
   "outputs": [],
   "source": [
    "diet_A = np.random.normal(loc=2.0, scale=0.5, size=sample_size)\n",
    "diet_B = np.random.normal(loc=1.8, scale=0.6, size=sample_size)\n",
    "diet_C = np.random.normal(loc=2.2, scale=0.7, size=sample_size)"
   ]
  },
  {
   "cell_type": "code",
   "execution_count": 25,
   "id": "e799c427-9bb5-416d-a5b4-4c9659318b08",
   "metadata": {},
   "outputs": [],
   "source": [
    "f_statistic, p_value = stats.f_oneway(diet_A, diet_B, diet_C)"
   ]
  },
  {
   "cell_type": "code",
   "execution_count": 26,
   "id": "e2dcee71-1330-4721-9f47-2767b9933725",
   "metadata": {},
   "outputs": [
    {
     "name": "stdout",
     "output_type": "stream",
     "text": [
      "F-statistic: 11.6230\n",
      "P-value: 0.0000\n"
     ]
    }
   ],
   "source": [
    "print(f\"F-statistic: {f_statistic:.4f}\")\n",
    "print(f\"P-value: {p_value:.4f}\")"
   ]
  },
  {
   "cell_type": "code",
   "execution_count": 27,
   "id": "8db53c01-43d8-4715-b0c8-1e7630f1f59a",
   "metadata": {},
   "outputs": [],
   "source": [
    "significance_level = 0.05 # Assumption"
   ]
  },
  {
   "cell_type": "code",
   "execution_count": 28,
   "id": "8a91ede8-edb8-46d5-9607-0a52c3a5f0b5",
   "metadata": {},
   "outputs": [
    {
     "name": "stdout",
     "output_type": "stream",
     "text": [
      "There is a significant difference in mean weight loss between the diets.\n"
     ]
    }
   ],
   "source": [
    "if p_value < significance_level:\n",
    "    print(\"There is a significant difference in mean weight loss between the diets.\")\n",
    "else:\n",
    "    print(\"There is no significant difference in mean weight loss between the diets.\")"
   ]
  },
  {
   "cell_type": "code",
   "execution_count": 51,
   "id": "6497c877-9dcc-4449-a285-cbe7172ea277",
   "metadata": {},
   "outputs": [],
   "source": [
    "# Q10."
   ]
  },
  {
   "cell_type": "code",
   "execution_count": 30,
   "id": "ec966378-a718-4af5-8c67-c1ed682840a1",
   "metadata": {},
   "outputs": [
    {
     "name": "stdout",
     "output_type": "stream",
     "text": [
      "Requirement already satisfied: numpy in /opt/conda/lib/python3.10/site-packages (1.23.5)\n",
      "Requirement already satisfied: pandas in /opt/conda/lib/python3.10/site-packages (1.5.2)\n",
      "Requirement already satisfied: statsmodels in /opt/conda/lib/python3.10/site-packages (0.13.5)\n",
      "Requirement already satisfied: python-dateutil>=2.8.1 in /opt/conda/lib/python3.10/site-packages (from pandas) (2.8.2)\n",
      "Requirement already satisfied: pytz>=2020.1 in /opt/conda/lib/python3.10/site-packages (from pandas) (2022.6)\n",
      "Requirement already satisfied: patsy>=0.5.2 in /opt/conda/lib/python3.10/site-packages (from statsmodels) (0.5.3)\n",
      "Requirement already satisfied: scipy>=1.3 in /opt/conda/lib/python3.10/site-packages (from statsmodels) (1.9.3)\n",
      "Requirement already satisfied: packaging>=21.3 in /opt/conda/lib/python3.10/site-packages (from statsmodels) (22.0)\n",
      "Requirement already satisfied: six in /opt/conda/lib/python3.10/site-packages (from patsy>=0.5.2->statsmodels) (1.16.0)\n",
      "Note: you may need to restart the kernel to use updated packages.\n"
     ]
    }
   ],
   "source": [
    "pip install numpy pandas statsmodels"
   ]
  },
  {
   "cell_type": "code",
   "execution_count": 31,
   "id": "148413a2-729a-4c59-a9f6-9973290e46a1",
   "metadata": {},
   "outputs": [],
   "source": [
    "import numpy as np\n",
    "import pandas as pd\n",
    "import statsmodels.api as sm\n",
    "from statsmodels.formula.api import ols"
   ]
  },
  {
   "cell_type": "code",
   "execution_count": 32,
   "id": "aefe2e56-3a9b-4b78-b46b-380835e2fb42",
   "metadata": {},
   "outputs": [],
   "source": [
    "np.random.seed(42)"
   ]
  },
  {
   "cell_type": "code",
   "execution_count": 45,
   "id": "640849f5-583d-4d6a-b905-55208c118802",
   "metadata": {},
   "outputs": [],
   "source": [
    "n_employees = 90\n",
    "\n",
    "data = {\n",
    "    'Software': np.repeat(['A', 'B', 'C'], n_employees // 3),\n",
    "    'Experience': np.random.choice(['Novice', 'Experienced'], size=n_employees),\n",
    "    'Time': np.random.normal(loc=20, scale=5, size=n_employees)\n",
    "}\n",
    "\n",
    "df = pd.DataFrame(data)"
   ]
  },
  {
   "cell_type": "code",
   "execution_count": 46,
   "id": "8cfa399d-7e79-4148-8194-8dc46c457bfe",
   "metadata": {},
   "outputs": [
    {
     "data": {
      "text/html": [
       "<div>\n",
       "<style scoped>\n",
       "    .dataframe tbody tr th:only-of-type {\n",
       "        vertical-align: middle;\n",
       "    }\n",
       "\n",
       "    .dataframe tbody tr th {\n",
       "        vertical-align: top;\n",
       "    }\n",
       "\n",
       "    .dataframe thead th {\n",
       "        text-align: right;\n",
       "    }\n",
       "</style>\n",
       "<table border=\"1\" class=\"dataframe\">\n",
       "  <thead>\n",
       "    <tr style=\"text-align: right;\">\n",
       "      <th></th>\n",
       "      <th>Software</th>\n",
       "      <th>Experience</th>\n",
       "      <th>Time</th>\n",
       "    </tr>\n",
       "  </thead>\n",
       "  <tbody>\n",
       "    <tr>\n",
       "      <th>0</th>\n",
       "      <td>A</td>\n",
       "      <td>Novice</td>\n",
       "      <td>16.140905</td>\n",
       "    </tr>\n",
       "    <tr>\n",
       "      <th>1</th>\n",
       "      <td>A</td>\n",
       "      <td>Novice</td>\n",
       "      <td>28.306509</td>\n",
       "    </tr>\n",
       "    <tr>\n",
       "      <th>2</th>\n",
       "      <td>A</td>\n",
       "      <td>Novice</td>\n",
       "      <td>18.328765</td>\n",
       "    </tr>\n",
       "    <tr>\n",
       "      <th>3</th>\n",
       "      <td>A</td>\n",
       "      <td>Experienced</td>\n",
       "      <td>18.410765</td>\n",
       "    </tr>\n",
       "    <tr>\n",
       "      <th>4</th>\n",
       "      <td>A</td>\n",
       "      <td>Experienced</td>\n",
       "      <td>21.588835</td>\n",
       "    </tr>\n",
       "    <tr>\n",
       "      <th>...</th>\n",
       "      <td>...</td>\n",
       "      <td>...</td>\n",
       "      <td>...</td>\n",
       "    </tr>\n",
       "    <tr>\n",
       "      <th>85</th>\n",
       "      <td>C</td>\n",
       "      <td>Experienced</td>\n",
       "      <td>24.019065</td>\n",
       "    </tr>\n",
       "    <tr>\n",
       "      <th>86</th>\n",
       "      <td>C</td>\n",
       "      <td>Novice</td>\n",
       "      <td>23.069207</td>\n",
       "    </tr>\n",
       "    <tr>\n",
       "      <th>87</th>\n",
       "      <td>C</td>\n",
       "      <td>Novice</td>\n",
       "      <td>26.789404</td>\n",
       "    </tr>\n",
       "    <tr>\n",
       "      <th>88</th>\n",
       "      <td>C</td>\n",
       "      <td>Experienced</td>\n",
       "      <td>17.833483</td>\n",
       "    </tr>\n",
       "    <tr>\n",
       "      <th>89</th>\n",
       "      <td>C</td>\n",
       "      <td>Experienced</td>\n",
       "      <td>21.019114</td>\n",
       "    </tr>\n",
       "  </tbody>\n",
       "</table>\n",
       "<p>90 rows × 3 columns</p>\n",
       "</div>"
      ],
      "text/plain": [
       "   Software   Experience       Time\n",
       "0         A       Novice  16.140905\n",
       "1         A       Novice  28.306509\n",
       "2         A       Novice  18.328765\n",
       "3         A  Experienced  18.410765\n",
       "4         A  Experienced  21.588835\n",
       "..      ...          ...        ...\n",
       "85        C  Experienced  24.019065\n",
       "86        C       Novice  23.069207\n",
       "87        C       Novice  26.789404\n",
       "88        C  Experienced  17.833483\n",
       "89        C  Experienced  21.019114\n",
       "\n",
       "[90 rows x 3 columns]"
      ]
     },
     "execution_count": 46,
     "metadata": {},
     "output_type": "execute_result"
    }
   ],
   "source": [
    "df"
   ]
  },
  {
   "cell_type": "code",
   "execution_count": 48,
   "id": "c98f1f20-b0a9-4f1e-a2e6-419b5d61e439",
   "metadata": {},
   "outputs": [],
   "source": [
    "# Perform two-way ANOVA test using the formula.\n",
    "\n",
    "formula = 'Time ~ Software + Experience + Software:Experience'\n",
    "model = ols(formula, data=df).fit()"
   ]
  },
  {
   "cell_type": "code",
   "execution_count": 49,
   "id": "01cd77bd-7d65-4d5a-baf7-49b02e8c0d0c",
   "metadata": {},
   "outputs": [
    {
     "name": "stdout",
     "output_type": "stream",
     "text": [
      "                          sum_sq    df         F    PR(>F)\n",
      "Software                3.404554   2.0  0.066478  0.935733\n",
      "Experience              0.689127   1.0  0.026912  0.870087\n",
      "Software:Experience   206.939945   2.0  4.040737  0.021110\n",
      "Residual             2150.963553  84.0       NaN       NaN\n"
     ]
    }
   ],
   "source": [
    "anova_table = sm.stats.anova_lm(model, typ=2)\n",
    "print(anova_table)"
   ]
  },
  {
   "cell_type": "code",
   "execution_count": 52,
   "id": "fa6dbc66-76a8-49e8-9126-2568c94cb164",
   "metadata": {},
   "outputs": [],
   "source": [
    "# Summary and interpretation of the results.\n",
    "# The high p-value (0.935733 > 0.05) for Software factor indicates that it is not statistically significant. In other words, there is no strong evidence to suggest that the choice of software significantly affects completion time.\n",
    "\n",
    "# The high p-value (0.870087 > 0.05) for Experience factor suggests that it is not statistically significant. In other words, there is no strong evidence to suggest that employee experience significantly affects completion time.\n",
    "\n",
    "# The p-value (0.021110) is less than the typical significance level of 0.05, indicating that the interaction effect is statistically significant. This means that the combined effect of software choice and employee experience level significantly affects completion time."
   ]
  },
  {
   "cell_type": "code",
   "execution_count": 16,
   "id": "4bf705c1-6f6f-4335-9785-9e10792c2754",
   "metadata": {},
   "outputs": [],
   "source": [
    "#Q11."
   ]
  },
  {
   "cell_type": "code",
   "execution_count": 17,
   "id": "a522c3ff-f08b-40e8-858d-17a73d6dbfec",
   "metadata": {},
   "outputs": [],
   "source": [
    "import pandas as pd\n",
    "import numpy as np\n",
    "import scipy.stats as stats\n",
    "import statsmodels.api as sm\n",
    "from statsmodels.stats.multicomp import pairwise_tukeyhsd"
   ]
  },
  {
   "cell_type": "code",
   "execution_count": 18,
   "id": "82e60b0c-5798-49a6-8b22-77dc141cecfe",
   "metadata": {},
   "outputs": [],
   "source": [
    "# Assuming data for the control and experimental groups\n",
    "control_scores = np.random.normal(85, 5, 50)\n",
    "experimental_scores = np.random.normal(90, 5, 50)"
   ]
  },
  {
   "cell_type": "code",
   "execution_count": 19,
   "id": "2218fc73-a63f-4319-9134-a6914dbb50fc",
   "metadata": {},
   "outputs": [],
   "source": [
    "data = pd.DataFrame({'Group':['Control'] * 50 + ['Experimental'] * 50,\n",
    "                    'Score':np.concatenate([control_scores, experimental_scores])})"
   ]
  },
  {
   "cell_type": "code",
   "execution_count": 20,
   "id": "69b854b1-6f67-43ba-8934-d6ac1bb669bd",
   "metadata": {},
   "outputs": [],
   "source": [
    "t_stat, p_value = stats.ttest_ind(control_scores, experimental_scores)"
   ]
  },
  {
   "cell_type": "code",
   "execution_count": 21,
   "id": "44fd2588-c19f-41fb-a2b5-01b8c2d13fd4",
   "metadata": {},
   "outputs": [
    {
     "name": "stdout",
     "output_type": "stream",
     "text": [
      "The two-sample t-test shows significant differences between the groups.\n",
      "T-statistic: -4.24, p-value: 0.0000\n",
      "\n",
      "Post-Hoc Tukey's HSD Test:\n",
      "  Multiple Comparison of Means - Tukey HSD, FWER=0.05   \n",
      "========================================================\n",
      " group1    group2    meandiff p-adj lower  upper  reject\n",
      "--------------------------------------------------------\n",
      "Control Experimental   4.2729   0.0 2.2751 6.2707   True\n",
      "--------------------------------------------------------\n"
     ]
    }
   ],
   "source": [
    "if p_value < 0.05:\n",
    "    print(\"The two-sample t-test shows significant differences between the groups.\")\n",
    "    print(f\"T-statistic: {t_stat:.2f}, p-value: {p_value:.4f}\")\n",
    "    \n",
    "    posthoc = pairwise_tukeyhsd(data['Score'], data['Group'], alpha=0.05)\n",
    "    \n",
    "    print(\"\\nPost-Hoc Tukey's HSD Test:\")\n",
    "    print(posthoc)\n",
    "else:\n",
    "    print(\"The two-sample t-test does not show significant differences between the groups.\")"
   ]
  },
  {
   "cell_type": "code",
   "execution_count": 4,
   "id": "8a4a6ee1-8529-4021-9cc8-573a623ac423",
   "metadata": {},
   "outputs": [],
   "source": [
    "#Q12"
   ]
  },
  {
   "cell_type": "code",
   "execution_count": 5,
   "id": "5dfbf713-c8e3-4414-9b09-70cce03f7f64",
   "metadata": {},
   "outputs": [
    {
     "name": "stdout",
     "output_type": "stream",
     "text": [
      "Collecting pingouin\n",
      "  Downloading pingouin-0.5.3-py3-none-any.whl (198 kB)\n",
      "\u001b[2K     \u001b[90m━━━━━━━━━━━━━━━━━━━━━━━━━━━━━━━━━━━━━━━\u001b[0m \u001b[32m198.6/198.6 kB\u001b[0m \u001b[31m5.2 MB/s\u001b[0m eta \u001b[36m0:00:00\u001b[0m00:01\u001b[0m\n",
      "\u001b[?25hCollecting pandas-flavor>=0.2.0\n",
      "  Downloading pandas_flavor-0.6.0-py3-none-any.whl (7.2 kB)\n",
      "Requirement already satisfied: scipy>=1.7 in /opt/conda/lib/python3.10/site-packages (from pingouin) (1.9.3)\n",
      "Requirement already satisfied: scikit-learn in /opt/conda/lib/python3.10/site-packages (from pingouin) (1.2.0)\n",
      "Requirement already satisfied: numpy>=1.19 in /opt/conda/lib/python3.10/site-packages (from pingouin) (1.23.5)\n",
      "Requirement already satisfied: statsmodels>=0.13 in /opt/conda/lib/python3.10/site-packages (from pingouin) (0.13.5)\n",
      "Requirement already satisfied: seaborn>=0.11 in /opt/conda/lib/python3.10/site-packages (from pingouin) (0.12.1)\n",
      "Requirement already satisfied: matplotlib>=3.0.2 in /opt/conda/lib/python3.10/site-packages (from pingouin) (3.6.2)\n",
      "Requirement already satisfied: pandas>=1.0 in /opt/conda/lib/python3.10/site-packages (from pingouin) (1.5.2)\n",
      "Collecting tabulate\n",
      "  Downloading tabulate-0.9.0-py3-none-any.whl (35 kB)\n",
      "Collecting outdated\n",
      "  Downloading outdated-0.2.2-py2.py3-none-any.whl (7.5 kB)\n",
      "Requirement already satisfied: pyparsing>=2.2.1 in /opt/conda/lib/python3.10/site-packages (from matplotlib>=3.0.2->pingouin) (3.0.9)\n",
      "Requirement already satisfied: fonttools>=4.22.0 in /opt/conda/lib/python3.10/site-packages (from matplotlib>=3.0.2->pingouin) (4.38.0)\n",
      "Requirement already satisfied: contourpy>=1.0.1 in /opt/conda/lib/python3.10/site-packages (from matplotlib>=3.0.2->pingouin) (1.0.6)\n",
      "Requirement already satisfied: kiwisolver>=1.0.1 in /opt/conda/lib/python3.10/site-packages (from matplotlib>=3.0.2->pingouin) (1.4.4)\n",
      "Requirement already satisfied: cycler>=0.10 in /opt/conda/lib/python3.10/site-packages (from matplotlib>=3.0.2->pingouin) (0.11.0)\n",
      "Requirement already satisfied: pillow>=6.2.0 in /opt/conda/lib/python3.10/site-packages (from matplotlib>=3.0.2->pingouin) (9.2.0)\n",
      "Requirement already satisfied: python-dateutil>=2.7 in /opt/conda/lib/python3.10/site-packages (from matplotlib>=3.0.2->pingouin) (2.8.2)\n",
      "Requirement already satisfied: packaging>=20.0 in /opt/conda/lib/python3.10/site-packages (from matplotlib>=3.0.2->pingouin) (22.0)\n",
      "Requirement already satisfied: pytz>=2020.1 in /opt/conda/lib/python3.10/site-packages (from pandas>=1.0->pingouin) (2022.6)\n",
      "Collecting xarray\n",
      "  Downloading xarray-2023.9.0-py3-none-any.whl (1.0 MB)\n",
      "\u001b[2K     \u001b[90m━━━━━━━━━━━━━━━━━━━━━━━━━━━━━━━━━━━━━━━━\u001b[0m \u001b[32m1.0/1.0 MB\u001b[0m \u001b[31m33.7 MB/s\u001b[0m eta \u001b[36m0:00:00\u001b[0m\n",
      "\u001b[?25hRequirement already satisfied: patsy>=0.5.2 in /opt/conda/lib/python3.10/site-packages (from statsmodels>=0.13->pingouin) (0.5.3)\n",
      "Requirement already satisfied: requests in /opt/conda/lib/python3.10/site-packages (from outdated->pingouin) (2.28.1)\n",
      "Collecting littleutils\n",
      "  Downloading littleutils-0.2.2.tar.gz (6.6 kB)\n",
      "  Preparing metadata (setup.py) ... \u001b[?25ldone\n",
      "\u001b[?25hRequirement already satisfied: setuptools>=44 in /opt/conda/lib/python3.10/site-packages (from outdated->pingouin) (65.5.1)\n",
      "Requirement already satisfied: threadpoolctl>=2.0.0 in /opt/conda/lib/python3.10/site-packages (from scikit-learn->pingouin) (3.1.0)\n",
      "Requirement already satisfied: joblib>=1.1.1 in /opt/conda/lib/python3.10/site-packages (from scikit-learn->pingouin) (1.2.0)\n",
      "Requirement already satisfied: six in /opt/conda/lib/python3.10/site-packages (from patsy>=0.5.2->statsmodels>=0.13->pingouin) (1.16.0)\n",
      "Requirement already satisfied: charset-normalizer<3,>=2 in /opt/conda/lib/python3.10/site-packages (from requests->outdated->pingouin) (2.1.1)\n",
      "Requirement already satisfied: idna<4,>=2.5 in /opt/conda/lib/python3.10/site-packages (from requests->outdated->pingouin) (3.4)\n",
      "Requirement already satisfied: urllib3<1.27,>=1.21.1 in /opt/conda/lib/python3.10/site-packages (from requests->outdated->pingouin) (1.26.13)\n",
      "Requirement already satisfied: certifi>=2017.4.17 in /opt/conda/lib/python3.10/site-packages (from requests->outdated->pingouin) (2022.12.7)\n",
      "Building wheels for collected packages: littleutils\n",
      "  Building wheel for littleutils (setup.py) ... \u001b[?25ldone\n",
      "\u001b[?25h  Created wheel for littleutils: filename=littleutils-0.2.2-py3-none-any.whl size=7028 sha256=520a3d4f4ace9659b07b52ae340270dc5f052b749be6f97331382d66b5e33d08\n",
      "  Stored in directory: /home/jovyan/.cache/pip/wheels/e0/3b/9c/d55ff5bc6cfbe70537c4731a22f2ee2462c2e5010b56ac9726\n",
      "Successfully built littleutils\n",
      "Installing collected packages: littleutils, tabulate, outdated, xarray, pandas-flavor, pingouin\n",
      "Successfully installed littleutils-0.2.2 outdated-0.2.2 pandas-flavor-0.6.0 pingouin-0.5.3 tabulate-0.9.0 xarray-2023.9.0\n",
      "Note: you may need to restart the kernel to use updated packages.\n"
     ]
    }
   ],
   "source": [
    "pip install pingouin"
   ]
  },
  {
   "cell_type": "code",
   "execution_count": 6,
   "id": "212a6a1b-3cfe-414f-bab4-c22ca9e41083",
   "metadata": {},
   "outputs": [],
   "source": [
    "import pandas as pd\n",
    "import pingouin as pg\n",
    "from statsmodels.stats.multicomp import MultiComparison"
   ]
  },
  {
   "cell_type": "code",
   "execution_count": 19,
   "id": "d53469e9-7aea-466d-984f-3d9d493e3760",
   "metadata": {},
   "outputs": [],
   "source": [
    "data = {\n",
    "    \n",
    "    'Store': ['A'] * 30 + ['B'] * 30 + ['C'] * 30,\n",
    "    'Sales': [\n",
    "        # Sales data for Store A for 30 days\n",
    "        100, 110, 95, 105, 115, 100, 105, 110, 98, 112,\n",
    "        92, 116, 94, 102, 111, 98, 105, 109, 97, 110,\n",
    "        85, 92, 88, 86, 89, 84, 91, 87, 88, 93,\n",
    "        # Sales data for Store B for 30 days\n",
    "        90, 85, 82, 88, 92, 87, 86, 95, 91, 84,\n",
    "        98, 100, 94, 96, 99, 85, 90, 89, 92, 88,\n",
    "        93, 97, 85, 89, 86, 91, 83, 87, 88, 85,\n",
    "        # Sales data for Store C for 30 days\n",
    "        75, 78, 82, 79, 81, 84, 76, 80, 85, 83,\n",
    "        80, 82, 86, 79, 77, 78, 81, 85, 80, 79,\n",
    "        84, 76, 82, 78, 85, 83, 77, 80, 81, 79,\n",
    "    ],\n",
    "    'Day':list(range(1,31)) * 3\n",
    "\n",
    "}"
   ]
  },
  {
   "cell_type": "code",
   "execution_count": 20,
   "id": "e0c34ea5-a314-4a9e-82c5-9d84f0d28aa3",
   "metadata": {},
   "outputs": [],
   "source": [
    "df = pd.DataFrame(data)"
   ]
  },
  {
   "cell_type": "code",
   "execution_count": 21,
   "id": "fcfba30e-b921-4cd2-ae7c-1073d6efc759",
   "metadata": {},
   "outputs": [
    {
     "data": {
      "text/html": [
       "<div>\n",
       "<style scoped>\n",
       "    .dataframe tbody tr th:only-of-type {\n",
       "        vertical-align: middle;\n",
       "    }\n",
       "\n",
       "    .dataframe tbody tr th {\n",
       "        vertical-align: top;\n",
       "    }\n",
       "\n",
       "    .dataframe thead th {\n",
       "        text-align: right;\n",
       "    }\n",
       "</style>\n",
       "<table border=\"1\" class=\"dataframe\">\n",
       "  <thead>\n",
       "    <tr style=\"text-align: right;\">\n",
       "      <th></th>\n",
       "      <th>Store</th>\n",
       "      <th>Sales</th>\n",
       "      <th>Day</th>\n",
       "    </tr>\n",
       "  </thead>\n",
       "  <tbody>\n",
       "    <tr>\n",
       "      <th>0</th>\n",
       "      <td>A</td>\n",
       "      <td>100</td>\n",
       "      <td>1</td>\n",
       "    </tr>\n",
       "    <tr>\n",
       "      <th>1</th>\n",
       "      <td>A</td>\n",
       "      <td>110</td>\n",
       "      <td>2</td>\n",
       "    </tr>\n",
       "    <tr>\n",
       "      <th>2</th>\n",
       "      <td>A</td>\n",
       "      <td>95</td>\n",
       "      <td>3</td>\n",
       "    </tr>\n",
       "    <tr>\n",
       "      <th>3</th>\n",
       "      <td>A</td>\n",
       "      <td>105</td>\n",
       "      <td>4</td>\n",
       "    </tr>\n",
       "    <tr>\n",
       "      <th>4</th>\n",
       "      <td>A</td>\n",
       "      <td>115</td>\n",
       "      <td>5</td>\n",
       "    </tr>\n",
       "    <tr>\n",
       "      <th>...</th>\n",
       "      <td>...</td>\n",
       "      <td>...</td>\n",
       "      <td>...</td>\n",
       "    </tr>\n",
       "    <tr>\n",
       "      <th>85</th>\n",
       "      <td>C</td>\n",
       "      <td>83</td>\n",
       "      <td>26</td>\n",
       "    </tr>\n",
       "    <tr>\n",
       "      <th>86</th>\n",
       "      <td>C</td>\n",
       "      <td>77</td>\n",
       "      <td>27</td>\n",
       "    </tr>\n",
       "    <tr>\n",
       "      <th>87</th>\n",
       "      <td>C</td>\n",
       "      <td>80</td>\n",
       "      <td>28</td>\n",
       "    </tr>\n",
       "    <tr>\n",
       "      <th>88</th>\n",
       "      <td>C</td>\n",
       "      <td>81</td>\n",
       "      <td>29</td>\n",
       "    </tr>\n",
       "    <tr>\n",
       "      <th>89</th>\n",
       "      <td>C</td>\n",
       "      <td>79</td>\n",
       "      <td>30</td>\n",
       "    </tr>\n",
       "  </tbody>\n",
       "</table>\n",
       "<p>90 rows × 3 columns</p>\n",
       "</div>"
      ],
      "text/plain": [
       "   Store  Sales  Day\n",
       "0      A    100    1\n",
       "1      A    110    2\n",
       "2      A     95    3\n",
       "3      A    105    4\n",
       "4      A    115    5\n",
       "..   ...    ...  ...\n",
       "85     C     83   26\n",
       "86     C     77   27\n",
       "87     C     80   28\n",
       "88     C     81   29\n",
       "89     C     79   30\n",
       "\n",
       "[90 rows x 3 columns]"
      ]
     },
     "execution_count": 21,
     "metadata": {},
     "output_type": "execute_result"
    }
   ],
   "source": [
    "df"
   ]
  },
  {
   "cell_type": "code",
   "execution_count": 22,
   "id": "295056ba-c5c9-4c9c-b946-be3e81491984",
   "metadata": {},
   "outputs": [],
   "source": [
    "aov = pg.rm_anova(data=df, dv='Sales', within='Day', subject='Store')"
   ]
  },
  {
   "cell_type": "code",
   "execution_count": 23,
   "id": "79ec1ed7-8f67-42f1-91da-fd9079cd1624",
   "metadata": {},
   "outputs": [
    {
     "name": "stdout",
     "output_type": "stream",
     "text": [
      "  Source  ddof1  ddof2         F     p-unc       ng2       eps\n",
      "0    Day     29     58  1.148441  0.320344  0.154275  0.051071\n"
     ]
    }
   ],
   "source": [
    "print(aov)"
   ]
  },
  {
   "cell_type": "code",
   "execution_count": 24,
   "id": "931b5060-8d56-483b-9e54-1d420f7a9ad4",
   "metadata": {},
   "outputs": [],
   "source": [
    "posthoc = MultiComparison(df['Sales'], df['Store'])\n",
    "posthoc_results = posthoc.tukeyhsd()"
   ]
  },
  {
   "cell_type": "code",
   "execution_count": 25,
   "id": "92c88454-d139-43bc-baae-3f057b080bb8",
   "metadata": {},
   "outputs": [
    {
     "name": "stdout",
     "output_type": "stream",
     "text": [
      " Multiple Comparison of Means - Tukey HSD, FWER=0.05 \n",
      "=====================================================\n",
      "group1 group2 meandiff p-adj  lower    upper   reject\n",
      "-----------------------------------------------------\n",
      "     A      B  -9.0667   0.0 -13.0938  -5.0395   True\n",
      "     A      C    -18.4   0.0 -22.4272 -14.3728   True\n",
      "     B      C  -9.3333   0.0 -13.3605  -5.3062   True\n",
      "-----------------------------------------------------\n"
     ]
    }
   ],
   "source": [
    "print(posthoc_results)"
   ]
  },
  {
   "cell_type": "code",
   "execution_count": 28,
   "id": "91eedd65-9f5e-472a-93e3-a40a051b0620",
   "metadata": {},
   "outputs": [],
   "source": [
    "# End"
   ]
  },
  {
   "cell_type": "code",
   "execution_count": 30,
   "id": "a9b87457-17c9-420d-97bd-7037e4bd351a",
   "metadata": {},
   "outputs": [],
   "source": [
    "# End"
   ]
  },
  {
   "cell_type": "code",
   "execution_count": 31,
   "id": "ff9611e3-b1f2-43f3-a5c7-1af76e46ff99",
   "metadata": {},
   "outputs": [],
   "source": [
    "# End"
   ]
  },
  {
   "cell_type": "code",
   "execution_count": null,
   "id": "9d901bc0-4a0d-4827-8be3-2bc9c459dc4e",
   "metadata": {},
   "outputs": [],
   "source": []
  }
 ],
 "metadata": {
  "kernelspec": {
   "display_name": "Python 3 (ipykernel)",
   "language": "python",
   "name": "python3"
  },
  "language_info": {
   "codemirror_mode": {
    "name": "ipython",
    "version": 3
   },
   "file_extension": ".py",
   "mimetype": "text/x-python",
   "name": "python",
   "nbconvert_exporter": "python",
   "pygments_lexer": "ipython3",
   "version": "3.10.8"
  }
 },
 "nbformat": 4,
 "nbformat_minor": 5
}
